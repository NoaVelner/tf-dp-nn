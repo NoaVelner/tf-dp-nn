{
 "cells": [
  {
   "cell_type": "code",
   "execution_count": 1,
   "id": "initial_id",
   "metadata": {
    "collapsed": true,
    "ExecuteTime": {
     "end_time": "2024-07-09T13:09:57.610537400Z",
     "start_time": "2024-07-09T13:09:52.794094200Z"
    }
   },
   "outputs": [
    {
     "name": "stdout",
     "output_type": "stream",
     "text": [
      "WARNING:tensorflow:From C:\\Users\\Noa\\tensorflowPrivacy\\Lib\\site-packages\\tensorflow_privacy\\privacy\\optimizers\\dp_optimizer.py:267: The name tf.train.AdagradOptimizer is deprecated. Please use tf.compat.v1.train.AdagradOptimizer instead.\n"
     ]
    }
   ],
   "source": [
    "import tensorflow as tf\n",
    "from tensorflow_privacy.privacy.optimizers.dp_optimizer_keras import DPKerasSGDOptimizer\n",
    "from tensorflow_privacy.privacy.analysis import compute_dp_sgd_privacy"
   ]
  },
  {
   "cell_type": "markdown",
   "source": [
    "# First impementation - with microbatching"
   ],
   "metadata": {
    "collapsed": false
   },
   "id": "d36c3e846c9df6f7"
  },
  {
   "cell_type": "code",
   "execution_count": 2,
   "outputs": [],
   "source": [
    "# Model parameters\n",
    "num_epochs = 15\n",
    "batch_size = 256\n",
    "learning_rate = 0.01\n",
    "\n",
    "# DP parameters\n",
    "noise_multiplier = 1.1\n",
    "l2_norm_clip = 1.0\n",
    "delta = 1e-5"
   ],
   "metadata": {
    "collapsed": false,
    "ExecuteTime": {
     "end_time": "2024-07-09T13:09:57.610537400Z",
     "start_time": "2024-07-09T13:09:57.605698800Z"
    }
   },
   "id": "dfb4334f1a5cf131"
  },
  {
   "cell_type": "code",
   "execution_count": 3,
   "outputs": [],
   "source": [
    "num_train_samples = 60000  # MNIST training dataset size\n",
    "num_steps = num_epochs * num_train_samples // batch_size\n",
    "\n",
    "# Prepare the MNIST dataset\n",
    "(x_train, y_train), (x_test, y_test) = tf.keras.datasets.mnist.load_data()\n",
    "x_train, x_test = x_train / 255.0, x_test / 255.0"
   ],
   "metadata": {
    "collapsed": false,
    "ExecuteTime": {
     "end_time": "2024-07-09T13:09:57.932852300Z",
     "start_time": "2024-07-09T13:09:57.610537400Z"
    }
   },
   "id": "c47bf5c6112c8464"
  },
  {
   "cell_type": "code",
   "execution_count": 4,
   "outputs": [
    {
     "name": "stderr",
     "output_type": "stream",
     "text": [
      "C:\\Users\\Noa\\tensorflowPrivacy\\Lib\\site-packages\\keras\\src\\layers\\reshaping\\flatten.py:37: UserWarning: Do not pass an `input_shape`/`input_dim` argument to a layer. When using Sequential models, prefer using an `Input(shape)` object as the first layer in the model instead.\n",
      "  super().__init__(**kwargs)\n"
     ]
    }
   ],
   "source": [
    "# Build and compile your model as usual\n",
    "model = tf.keras.Sequential([\n",
    "    tf.keras.layers.Flatten(input_shape=(28, 28)),\n",
    "    tf.keras.layers.Dense(128, activation='relu'),\n",
    "    tf.keras.layers.Dense(10)\n",
    "])"
   ],
   "metadata": {
    "collapsed": false,
    "ExecuteTime": {
     "end_time": "2024-07-09T13:09:58.000901400Z",
     "start_time": "2024-07-09T13:09:57.932852300Z"
    }
   },
   "id": "7ee4cda84f6d661f"
  },
  {
   "cell_type": "code",
   "execution_count": 5,
   "outputs": [],
   "source": [
    "# Use the DP version of an optimizer\n",
    "optimizer = DPKerasSGDOptimizer(\n",
    "    l2_norm_clip=l2_norm_clip,\n",
    "    noise_multiplier=noise_multiplier,\n",
    "    num_microbatches=batch_size,\n",
    "    learning_rate=learning_rate\n",
    ")\n"
   ],
   "metadata": {
    "collapsed": false,
    "ExecuteTime": {
     "end_time": "2024-07-09T13:09:58.014193500Z",
     "start_time": "2024-07-09T13:09:58.000901400Z"
    }
   },
   "id": "86f70eb8b9131c18"
  },
  {
   "cell_type": "code",
   "execution_count": 6,
   "outputs": [
    {
     "name": "stdout",
     "output_type": "stream",
     "text": [
      "Epoch 1/15\n",
      "\u001B[1m235/235\u001B[0m \u001B[32m━━━━━━━━━━━━━━━━━━━━\u001B[0m\u001B[37m\u001B[0m \u001B[1m1s\u001B[0m 2ms/step - accuracy: 0.4637 - loss: 1.8265\n",
      "Epoch 2/15\n",
      "\u001B[1m235/235\u001B[0m \u001B[32m━━━━━━━━━━━━━━━━━━━━\u001B[0m\u001B[37m\u001B[0m \u001B[1m1s\u001B[0m 2ms/step - accuracy: 0.8202 - loss: 0.8500\n",
      "Epoch 3/15\n",
      "\u001B[1m235/235\u001B[0m \u001B[32m━━━━━━━━━━━━━━━━━━━━\u001B[0m\u001B[37m\u001B[0m \u001B[1m1s\u001B[0m 2ms/step - accuracy: 0.8505 - loss: 0.6121\n",
      "Epoch 4/15\n",
      "\u001B[1m235/235\u001B[0m \u001B[32m━━━━━━━━━━━━━━━━━━━━\u001B[0m\u001B[37m\u001B[0m \u001B[1m1s\u001B[0m 2ms/step - accuracy: 0.8667 - loss: 0.5176\n",
      "Epoch 5/15\n",
      "\u001B[1m235/235\u001B[0m \u001B[32m━━━━━━━━━━━━━━━━━━━━\u001B[0m\u001B[37m\u001B[0m \u001B[1m1s\u001B[0m 2ms/step - accuracy: 0.8790 - loss: 0.4591\n",
      "Epoch 6/15\n",
      "\u001B[1m235/235\u001B[0m \u001B[32m━━━━━━━━━━━━━━━━━━━━\u001B[0m\u001B[37m\u001B[0m \u001B[1m1s\u001B[0m 2ms/step - accuracy: 0.8866 - loss: 0.4246\n",
      "Epoch 7/15\n",
      "\u001B[1m235/235\u001B[0m \u001B[32m━━━━━━━━━━━━━━━━━━━━\u001B[0m\u001B[37m\u001B[0m \u001B[1m1s\u001B[0m 2ms/step - accuracy: 0.8899 - loss: 0.4036\n",
      "Epoch 8/15\n",
      "\u001B[1m235/235\u001B[0m \u001B[32m━━━━━━━━━━━━━━━━━━━━\u001B[0m\u001B[37m\u001B[0m \u001B[1m0s\u001B[0m 2ms/step - accuracy: 0.8941 - loss: 0.3860\n",
      "Epoch 9/15\n",
      "\u001B[1m235/235\u001B[0m \u001B[32m━━━━━━━━━━━━━━━━━━━━\u001B[0m\u001B[37m\u001B[0m \u001B[1m1s\u001B[0m 2ms/step - accuracy: 0.8959 - loss: 0.3703\n",
      "Epoch 10/15\n",
      "\u001B[1m235/235\u001B[0m \u001B[32m━━━━━━━━━━━━━━━━━━━━\u001B[0m\u001B[37m\u001B[0m \u001B[1m1s\u001B[0m 2ms/step - accuracy: 0.9004 - loss: 0.3607\n",
      "Epoch 11/15\n",
      "\u001B[1m235/235\u001B[0m \u001B[32m━━━━━━━━━━━━━━━━━━━━\u001B[0m\u001B[37m\u001B[0m \u001B[1m1s\u001B[0m 2ms/step - accuracy: 0.9035 - loss: 0.3449\n",
      "Epoch 12/15\n",
      "\u001B[1m235/235\u001B[0m \u001B[32m━━━━━━━━━━━━━━━━━━━━\u001B[0m\u001B[37m\u001B[0m \u001B[1m1s\u001B[0m 2ms/step - accuracy: 0.9044 - loss: 0.3386\n",
      "Epoch 13/15\n",
      "\u001B[1m235/235\u001B[0m \u001B[32m━━━━━━━━━━━━━━━━━━━━\u001B[0m\u001B[37m\u001B[0m \u001B[1m1s\u001B[0m 2ms/step - accuracy: 0.9070 - loss: 0.3319\n",
      "Epoch 14/15\n",
      "\u001B[1m235/235\u001B[0m \u001B[32m━━━━━━━━━━━━━━━━━━━━\u001B[0m\u001B[37m\u001B[0m \u001B[1m1s\u001B[0m 2ms/step - accuracy: 0.9085 - loss: 0.3293\n",
      "Epoch 15/15\n",
      "\u001B[1m235/235\u001B[0m \u001B[32m━━━━━━━━━━━━━━━━━━━━\u001B[0m\u001B[37m\u001B[0m \u001B[1m1s\u001B[0m 2ms/step - accuracy: 0.9117 - loss: 0.3180\n",
      "DP-SGD with sampling rate = 0.427% and noise_multiplier = 1.1 iterated over 3516 steps satisfies differential privacy with eps = 1.59 and delta = 1e-05.\n",
      "The optimal RDP order is 12.0.\n"
     ]
    }
   ],
   "source": [
    "\n",
    "model.compile(optimizer=optimizer,\n",
    "              loss=tf.keras.losses.SparseCategoricalCrossentropy(from_logits=True),\n",
    "              metrics=['accuracy'])\n",
    "\n",
    "# Train the model\n",
    "model.fit(x_train, y_train, epochs=num_epochs, batch_size=batch_size)\n",
    "# test_loss, test_accuracy = model.evaluate(y_test)\n",
    "\n",
    "# Calculate the privacy budget\n",
    "epsilon, optimal_order = compute_dp_sgd_privacy.compute_dp_sgd_privacy(\n",
    "    n=num_train_samples,\n",
    "    batch_size=batch_size,\n",
    "    noise_multiplier=noise_multiplier,\n",
    "    epochs=num_epochs,\n",
    "    delta=delta\n",
    ")"
   ],
   "metadata": {
    "collapsed": false,
    "ExecuteTime": {
     "end_time": "2024-07-09T13:10:06.499809900Z",
     "start_time": "2024-07-09T13:09:58.014193500Z"
    }
   },
   "id": "26ce1f57875fb57"
  },
  {
   "cell_type": "code",
   "execution_count": 7,
   "outputs": [
    {
     "name": "stdout",
     "output_type": "stream",
     "text": [
      "DP-SGD with noise multiplier 1.1 and clip norm 1.0 gives (ε = 1.59, δ = 1e-05) for 15 epochs.\n"
     ]
    }
   ],
   "source": [
    "print(f\"DP-SGD with noise multiplier {noise_multiplier} and clip norm {l2_norm_clip} gives (ε = {epsilon:.2f}, δ = {delta}) for {num_epochs} epochs.\")\n"
   ],
   "metadata": {
    "collapsed": false,
    "ExecuteTime": {
     "end_time": "2024-07-09T13:10:06.499809900Z",
     "start_time": "2024-07-09T13:10:06.499809900Z"
    }
   },
   "id": "9bc936045db23b46"
  },
  {
   "cell_type": "markdown",
   "source": [
    "# SECOND METHOD \n",
    "without minibatches"
   ],
   "metadata": {
    "collapsed": false
   },
   "id": "939df00b2ee4da61"
  },
  {
   "cell_type": "code",
   "execution_count": 9,
   "outputs": [],
   "source": [
    "import tensorflow as tf\n",
    "import tensorflow_datasets as tfds\n",
    "import tensorflow_privacy\n",
    "from tensorflow_privacy.privacy.optimizers.dp_optimizer_keras import DPKerasSGDOptimizer\n",
    "from tensorflow_privacy.privacy.optimizers.dp_optimizer_keras import DPKerasAdamOptimizer\n",
    "from tensorflow_privacy.privacy.analysis import compute_dp_sgd_privacy"
   ],
   "metadata": {
    "collapsed": false,
    "ExecuteTime": {
     "end_time": "2024-07-09T13:10:06.827909300Z",
     "start_time": "2024-07-09T13:10:06.507700800Z"
    }
   },
   "id": "59046b2a34240306"
  },
  {
   "cell_type": "code",
   "execution_count": 10,
   "outputs": [],
   "source": [
    "# Load the MNIST dataset\n",
    "(ds_train, ds_test), ds_info = tfds.load('mnist', split=['train', 'test'], shuffle_files=True, as_supervised=True, with_info=True)"
   ],
   "metadata": {
    "collapsed": false,
    "ExecuteTime": {
     "end_time": "2024-07-09T13:10:07.480511400Z",
     "start_time": "2024-07-09T13:10:06.827909300Z"
    }
   },
   "id": "26c89086f1ff5fba"
  },
  {
   "cell_type": "code",
   "execution_count": 11,
   "outputs": [],
   "source": [
    "# Preprocessing function to normalize the images and convert labels to categorical\n",
    "def preprocess(image, label):\n",
    "    image = tf.cast(image, tf.float32) / 255.0\n",
    "    label = tf.keras.utils.to_categorical(label, num_classes=10)\n",
    "    return image, label"
   ],
   "metadata": {
    "collapsed": false,
    "ExecuteTime": {
     "end_time": "2024-07-09T13:10:07.486206800Z",
     "start_time": "2024-07-09T13:10:07.480511400Z"
    }
   },
   "id": "cdb6d59676755126"
  },
  {
   "cell_type": "code",
   "execution_count": 12,
   "outputs": [],
   "source": [
    "(ds_train_full, ds_test), ds_info = tfds.load('mnist', split=['train', 'test'], shuffle_files=True, as_supervised=True, with_info=True)\n",
    "\n",
    "# Get the size of the datasets\n",
    "full_train_size = ds_info.splits['train'].num_examples\n",
    "test_size = ds_info.splits['test'].num_examples\n",
    "\n",
    "# Calculate sizes for train and validation sets\n",
    "train_size = int(0.8 * full_train_size)  # 80% for training\n",
    "val_size = full_train_size - train_size  # 20% for validation\n",
    "\n",
    "# Split the full training set into train and validation\n",
    "ds_train = ds_train_full.take(train_size)\n",
    "ds_val = ds_train_full.skip(train_size)"
   ],
   "metadata": {
    "collapsed": false,
    "ExecuteTime": {
     "end_time": "2024-07-09T13:10:07.581527400Z",
     "start_time": "2024-07-09T13:10:07.486206800Z"
    }
   },
   "id": "955918052fa857fd"
  },
  {
   "cell_type": "code",
   "execution_count": 13,
   "outputs": [],
   "source": [
    "# # Apply preprocessing\n",
    "ds_train = ds_train.map(preprocess).batch(train_size).prefetch(tf.data.experimental.AUTOTUNE)\n",
    "ds_val = ds_val.map(preprocess).batch(val_size).prefetch(tf.data.experimental.AUTOTUNE)\n",
    "ds_test = ds_test.map(preprocess).batch(test_size).prefetch(tf.data.experimental.AUTOTUNE)"
   ],
   "metadata": {
    "collapsed": false,
    "ExecuteTime": {
     "end_time": "2024-07-09T13:10:07.658903100Z",
     "start_time": "2024-07-09T13:10:07.581527400Z"
    }
   },
   "id": "adcd26d8f726837c"
  },
  {
   "cell_type": "code",
   "execution_count": 14,
   "outputs": [],
   "source": [
    "# Define a simple fully connected model\n",
    "model = tf.keras.Sequential([\n",
    "    tf.keras.layers.Flatten(input_shape=(28, 28)),\n",
    "    tf.keras.layers.Dense(128, activation='relu'),\n",
    "    tf.keras.layers.Dense(10, activation='softmax')\n",
    "])"
   ],
   "metadata": {
    "collapsed": false,
    "ExecuteTime": {
     "end_time": "2024-07-09T13:10:07.685693300Z",
     "start_time": "2024-07-09T13:10:07.658903100Z"
    }
   },
   "id": "a3296e9eca1454d1"
  },
  {
   "cell_type": "code",
   "execution_count": 15,
   "outputs": [],
   "source": [
    "learning_rate = 0.01\n",
    "clipping_radius = 4\n",
    "batch_number = 1\n",
    "noise_multiplier = 0.8\n",
    "epochs = 10"
   ],
   "metadata": {
    "collapsed": false,
    "ExecuteTime": {
     "end_time": "2024-07-09T13:10:07.688209800Z",
     "start_time": "2024-07-09T13:10:07.685693300Z"
    }
   },
   "id": "a436a1543ee3fde"
  },
  {
   "cell_type": "code",
   "execution_count": 16,
   "outputs": [],
   "source": [
    "# Define the optimizer, loss, and metrics\n",
    "optimizer = tf.keras.optimizers.SGD(learning_rate=learning_rate)\n",
    "loss = tf.keras.losses.CategoricalCrossentropy(from_logits=True)\n",
    "metrics = [tf.keras.metrics.CategoricalAccuracy()]"
   ],
   "metadata": {
    "collapsed": false,
    "ExecuteTime": {
     "end_time": "2024-07-09T13:10:07.697752900Z",
     "start_time": "2024-07-09T13:10:07.688209800Z"
    }
   },
   "id": "e67c80841835a70f"
  },
  {
   "cell_type": "code",
   "execution_count": 17,
   "outputs": [],
   "source": [
    "# Apply differentially private optimizer\n",
    "dp_optimizer = DPKerasAdamOptimizer(\n",
    "    l2_norm_clip=clipping_radius,\n",
    "    noise_multiplier=noise_multiplier,\n",
    "    num_microbatches=batch_number,  # No batching\n",
    "    learning_rate=learning_rate\n",
    ")"
   ],
   "metadata": {
    "collapsed": false,
    "ExecuteTime": {
     "end_time": "2024-07-09T13:10:07.707461900Z",
     "start_time": "2024-07-09T13:10:07.697752900Z"
    }
   },
   "id": "2d80c53b27077dc"
  },
  {
   "cell_type": "code",
   "execution_count": 18,
   "outputs": [
    {
     "name": "stdout",
     "output_type": "stream",
     "text": [
      "Epoch 1/10\n"
     ]
    },
    {
     "name": "stderr",
     "output_type": "stream",
     "text": [
      "C:\\Users\\Noa\\tensorflowPrivacy\\Lib\\site-packages\\keras\\src\\backend\\tensorflow\\nn.py:567: UserWarning: \"`categorical_crossentropy` received `from_logits=True`, but the `output` argument was produced by a Softmax activation and thus does not represent logits. Was this intended?\n",
      "  output, from_logits = _get_logits(\n"
     ]
    },
    {
     "name": "stdout",
     "output_type": "stream",
     "text": [
      "\u001B[1m1/1\u001B[0m \u001B[32m━━━━━━━━━━━━━━━━━━━━\u001B[0m\u001B[37m\u001B[0m \u001B[1m3s\u001B[0m 3s/step - categorical_accuracy: 0.0624 - loss: 2.4082 - val_categorical_accuracy: 0.4433 - val_loss: 1.7072\n",
      "Epoch 2/10\n",
      "\u001B[1m1/1\u001B[0m \u001B[32m━━━━━━━━━━━━━━━━━━━━\u001B[0m\u001B[37m\u001B[0m \u001B[1m1s\u001B[0m 612ms/step - categorical_accuracy: 0.4456 - loss: 1.7031 - val_categorical_accuracy: 0.7122 - val_loss: 1.1802\n",
      "Epoch 3/10\n",
      "\u001B[1m1/1\u001B[0m \u001B[32m━━━━━━━━━━━━━━━━━━━━\u001B[0m\u001B[37m\u001B[0m \u001B[1m1s\u001B[0m 568ms/step - categorical_accuracy: 0.7120 - loss: 1.1764 - val_categorical_accuracy: 0.6977 - val_loss: 0.9905\n",
      "Epoch 4/10\n",
      "\u001B[1m1/1\u001B[0m \u001B[32m━━━━━━━━━━━━━━━━━━━━\u001B[0m\u001B[37m\u001B[0m \u001B[1m1s\u001B[0m 599ms/step - categorical_accuracy: 0.6942 - loss: 0.9886 - val_categorical_accuracy: 0.8033 - val_loss: 0.6762\n",
      "Epoch 5/10\n",
      "\u001B[1m1/1\u001B[0m \u001B[32m━━━━━━━━━━━━━━━━━━━━\u001B[0m\u001B[37m\u001B[0m \u001B[1m1s\u001B[0m 581ms/step - categorical_accuracy: 0.8026 - loss: 0.6729 - val_categorical_accuracy: 0.8227 - val_loss: 0.5753\n",
      "Epoch 6/10\n",
      "\u001B[1m1/1\u001B[0m \u001B[32m━━━━━━━━━━━━━━━━━━━━\u001B[0m\u001B[37m\u001B[0m \u001B[1m1s\u001B[0m 577ms/step - categorical_accuracy: 0.8244 - loss: 0.5716 - val_categorical_accuracy: 0.8341 - val_loss: 0.5427\n",
      "Epoch 7/10\n",
      "\u001B[1m1/1\u001B[0m \u001B[32m━━━━━━━━━━━━━━━━━━━━\u001B[0m\u001B[37m\u001B[0m \u001B[1m1s\u001B[0m 576ms/step - categorical_accuracy: 0.8331 - loss: 0.5395 - val_categorical_accuracy: 0.8534 - val_loss: 0.5041\n",
      "Epoch 8/10\n",
      "\u001B[1m1/1\u001B[0m \u001B[32m━━━━━━━━━━━━━━━━━━━━\u001B[0m\u001B[37m\u001B[0m \u001B[1m1s\u001B[0m 599ms/step - categorical_accuracy: 0.8509 - loss: 0.5017 - val_categorical_accuracy: 0.8652 - val_loss: 0.4626\n",
      "Epoch 9/10\n",
      "\u001B[1m1/1\u001B[0m \u001B[32m━━━━━━━━━━━━━━━━━━━━\u001B[0m\u001B[37m\u001B[0m \u001B[1m1s\u001B[0m 610ms/step - categorical_accuracy: 0.8657 - loss: 0.4613 - val_categorical_accuracy: 0.8733 - val_loss: 0.4299\n",
      "Epoch 10/10\n",
      "\u001B[1m1/1\u001B[0m \u001B[32m━━━━━━━━━━━━━━━━━━━━\u001B[0m\u001B[37m\u001B[0m \u001B[1m1s\u001B[0m 600ms/step - categorical_accuracy: 0.8746 - loss: 0.4287 - val_categorical_accuracy: 0.8788 - val_loss: 0.4157\n"
     ]
    }
   ],
   "source": [
    "# Compile the model with the DP optimizer\n",
    "# model.compile(optimizer=tf.keras.optimizers.Adam(0.001), loss=loss, metrics=metrics)   #Adam version\n",
    "model.compile(optimizer=dp_optimizer, loss=loss, metrics=metrics)    #dp version\n",
    "\n",
    "# Train the model\n",
    "history = model.fit(ds_train, epochs=epochs, validation_data=ds_val)  # is it ok?"
   ],
   "metadata": {
    "collapsed": false,
    "ExecuteTime": {
     "end_time": "2024-07-09T13:10:15.717662900Z",
     "start_time": "2024-07-09T13:10:07.707461900Z"
    }
   },
   "id": "7fa8e1acf9a7d6bc"
  },
  {
   "cell_type": "code",
   "execution_count": 19,
   "outputs": [
    {
     "name": "stdout",
     "output_type": "stream",
     "text": [
      "\u001B[1m1/1\u001B[0m \u001B[32m━━━━━━━━━━━━━━━━━━━━\u001B[0m\u001B[37m\u001B[0m \u001B[1m0s\u001B[0m 205ms/step - categorical_accuracy: 0.8844 - loss: 0.4037\n",
      "Test Loss: 0.4036630094051361\n",
      "Test Accuracy: 0.8844000101089478\n"
     ]
    }
   ],
   "source": [
    "# Evaluate the model on the test set\n",
    "test_loss, test_accuracy = model.evaluate(ds_test)\n",
    "print(f\"Test Loss: {test_loss}\")\n",
    "print(f\"Test Accuracy: {test_accuracy}\")"
   ],
   "metadata": {
    "collapsed": false,
    "ExecuteTime": {
     "end_time": "2024-07-09T13:10:15.948046400Z",
     "start_time": "2024-07-09T13:10:15.712579400Z"
    }
   },
   "id": "d32197c18deb1dba"
  },
  {
   "cell_type": "code",
   "execution_count": 22,
   "outputs": [
    {
     "name": "stdout",
     "output_type": "stream",
     "text": [
      "DP-SGD with sampling rate = 100% and noise_multiplier = 0.8 iterated over 10 steps satisfies differential privacy with eps = 26.8 and delta = 1e-05.\n",
      "The optimal RDP order is 2.25.\n",
      "Epsilon: 26.78846537197618\n",
      "Optimal alpha: 2.25\n"
     ]
    }
   ],
   "source": [
    "# Compute the privacy budget\n",
    "\n",
    "epsilon, best_alpha = compute_dp_sgd_privacy.compute_dp_sgd_privacy(\n",
    "    n=train_size,  # number of training points\n",
    "    batch_size=train_size,  # batch size\n",
    "    noise_multiplier=noise_multiplier,  # noise multiplier\n",
    "    epochs=epochs,  # number of epochs\n",
    "    delta=1e-5  # delta\n",
    ")\n",
    "print(f\"Epsilon: {epsilon}\")\n",
    "print(f\"Optimal alpha: {best_alpha}\")\n",
    "\n",
    "# Test Loss: 2.3555104732513428\n",
    "# Test Accuracy: 0.1551000028848648"
   ],
   "metadata": {
    "collapsed": false,
    "ExecuteTime": {
     "end_time": "2024-07-09T13:10:35.951484600Z",
     "start_time": "2024-07-09T13:10:35.934581600Z"
    }
   },
   "id": "8dcc9051c7ddaa82"
  },
  {
   "cell_type": "markdown",
   "source": [
    "# increase number of layers"
   ],
   "metadata": {
    "collapsed": false
   },
   "id": "64e88cc44aacc2af"
  },
  {
   "cell_type": "code",
   "execution_count": null,
   "outputs": [],
   "source": [
    "# build the same way, with one one layer (at the same size) to ovserve the effect on train loss or accuracy, "
   ],
   "metadata": {
    "collapsed": false
   },
   "id": "f114d213fd7fad1"
  }
 ],
 "metadata": {
  "kernelspec": {
   "display_name": "Python 3",
   "language": "python",
   "name": "python3"
  },
  "language_info": {
   "codemirror_mode": {
    "name": "ipython",
    "version": 2
   },
   "file_extension": ".py",
   "mimetype": "text/x-python",
   "name": "python",
   "nbconvert_exporter": "python",
   "pygments_lexer": "ipython2",
   "version": "2.7.6"
  }
 },
 "nbformat": 4,
 "nbformat_minor": 5
}
